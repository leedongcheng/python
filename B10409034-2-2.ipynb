{
 "cells": [
  {
   "cell_type": "code",
   "execution_count": 11,
   "metadata": {
    "collapsed": false
   },
   "outputs": [
    {
     "data": {
      "text/plain": [
       "['昨天北方乾空氣南下',\n",
       " '北台灣終於擺脫連日降雨的天氣型態',\n",
       " '昨天各地多可見到陽光。今起太陽露臉的時間更長',\n",
       " '高溫也逐日回升',\n",
       " '不過低溫仍維持在20度左右',\n",
       " '因此日夜溫差可能廣達10度',\n",
       " '提醒民眾注意氣溫變化。']"
      ]
     },
     "execution_count": 11,
     "metadata": {},
     "output_type": "execute_result"
    }
   ],
   "source": [
    "news='昨天北方乾空氣南下,北台灣終於擺脫連日降雨的天氣型態,昨天各地多可見到陽光。今起太陽露臉的時間更長,高溫也逐日回升,不過低溫仍維持在20度左右,因此日夜溫差可能廣達10度,提醒民眾注意氣溫變化。'\n",
    "news.split(',')"
   ]
  },
  {
   "cell_type": "code",
   "execution_count": 12,
   "metadata": {
    "collapsed": false
   },
   "outputs": [
    {
     "name": "stdout",
     "output_type": "stream",
     "text": [
      "昨天北方乾空氣南下,北台灣終於擺脫連日降雨的天氣型態,昨天各地多可見到陽光。今起太陽露臉的時間更長,高溫也逐日回升,不過低溫仍維持在20度左右,因此日夜溫差可能廣達10度,提醒民眾注意氣溫變化。\n"
     ]
    }
   ],
   "source": [
    "news1=['昨天北方乾空氣南下',\n",
    " '北台灣終於擺脫連日降雨的天氣型態',\n",
    " '昨天各地多可見到陽光。今起太陽露臉的時間更長',\n",
    " '高溫也逐日回升',\n",
    " '不過低溫仍維持在20度左右',\n",
    " '因此日夜溫差可能廣達10度',\n",
    " '提醒民眾注意氣溫變化。']\n",
    "news2=','.join(news1)\n",
    "print(news2)"
   ]
  },
  {
   "cell_type": "code",
   "execution_count": 18,
   "metadata": {
    "collapsed": true
   },
   "outputs": [],
   "source": [
    "import requests\n",
    "response=requests.get(\"http://www.novelscape.net/wxxs/j/jingyong/sdxl/040.htm\")\n",
    "response.encoding=\"big5\"\n",
    "book1=response.text"
   ]
  },
  {
   "cell_type": "code",
   "execution_count": 23,
   "metadata": {
    "collapsed": false
   },
   "outputs": [
    {
     "data": {
      "text/plain": [
       "93"
      ]
     },
     "execution_count": 23,
     "metadata": {},
     "output_type": "execute_result"
    }
   ],
   "source": [
    "word1=\"楊過\"\n",
    "book1.count(word1)"
   ]
  },
  {
   "cell_type": "code",
   "execution_count": 28,
   "metadata": {
    "collapsed": false
   },
   "outputs": [
    {
     "name": "stdout",
     "output_type": "stream",
     "text": [
      "24.0\n",
      "24\n"
     ]
    }
   ],
   "source": [
    "\"P43作業\"\n",
    "seconds_per_hour=60*60\n",
    "seconds_per_day=seconds_per_hour*24\n",
    "print(seconds_per_day/seconds_per_hour)\n",
    "print(seconds_per_day//seconds_per_hour)"
   ]
  },
  {
   "cell_type": "code",
   "execution_count": null,
   "metadata": {
    "collapsed": true
   },
   "outputs": [],
   "source": []
  }
 ],
 "metadata": {
  "kernelspec": {
   "display_name": "Python 3",
   "language": "python",
   "name": "python3"
  },
  "language_info": {
   "codemirror_mode": {
    "name": "ipython",
    "version": 3
   },
   "file_extension": ".py",
   "mimetype": "text/x-python",
   "name": "python",
   "nbconvert_exporter": "python",
   "pygments_lexer": "ipython3",
   "version": "3.4.3"
  }
 },
 "nbformat": 4,
 "nbformat_minor": 0
}
