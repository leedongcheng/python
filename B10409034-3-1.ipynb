{
 "cells": [
  {
   "cell_type": "code",
   "execution_count": 1,
   "metadata": {
    "collapsed": false
   },
   "outputs": [
    {
     "name": "stdout",
     "output_type": "stream",
     "text": [
      "[['hummingbird', 'finch'], ['dodo', 'passenger pigeon', 'norwegian blue'], 'macaw', [3, 'french hens', 2, 'turtledoves']]\n"
     ]
    }
   ],
   "source": [
    "small_birds=['hummingbird','finch']\n",
    "extinct_birds=['dodo','passenger pigeon','norwegian blue']\n",
    "carol_birds=[3,'french hens',2,'turtledoves']\n",
    "all_birds=[small_birds,extinct_birds,'macaw',carol_birds]\n",
    "print(all_birds)"
   ]
  },
  {
   "cell_type": "code",
   "execution_count": null,
   "metadata": {
    "collapsed": true
   },
   "outputs": [],
   "source": [
    "all_birds"
   ]
  }
 ],
 "metadata": {
  "kernelspec": {
   "display_name": "Python 3",
   "language": "python",
   "name": "python3"
  },
  "language_info": {
   "codemirror_mode": {
    "name": "ipython",
    "version": 3
   },
   "file_extension": ".py",
   "mimetype": "text/x-python",
   "name": "python",
   "nbconvert_exporter": "python",
   "pygments_lexer": "ipython3",
   "version": "3.4.3"
  }
 },
 "nbformat": 4,
 "nbformat_minor": 0
}
