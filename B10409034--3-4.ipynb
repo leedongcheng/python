{
 "cells": [
  {
   "cell_type": "code",
   "execution_count": 1,
   "metadata": {
    "collapsed": false
   },
   "outputs": [
    {
     "name": "stdout",
     "output_type": "stream",
     "text": [
      "true\n"
     ]
    }
   ],
   "source": [
    "a=True\n",
    "if a:\n",
    "    print(\"true\")\n",
    "else:\n",
    "    print(\"false\")"
   ]
  },
  {
   "cell_type": "code",
   "execution_count": 3,
   "metadata": {
    "collapsed": false
   },
   "outputs": [
    {
     "name": "stdout",
     "output_type": "stream",
     "text": [
      "a true,b false\n"
     ]
    }
   ],
   "source": [
    "a=True\n",
    "b=False\n",
    "if a:\n",
    "    if b:\n",
    "        print(\"a true,b true\")\n",
    "    else:\n",
    "        print(\"a true,b false\")\n",
    "else:\n",
    "    if b:\n",
    "        print(\"a false,b true\")\n",
    "    else:\n",
    "        print(\"a false,b false\")"
   ]
  },
  {
   "cell_type": "code",
   "execution_count": 3,
   "metadata": {
    "collapsed": false
   },
   "outputs": [
    {
     "name": "stdout",
     "output_type": "stream",
     "text": [
      "input list:12335\n"
     ]
    },
    {
     "data": {
      "text/plain": [
       "True"
      ]
     },
     "execution_count": 3,
     "metadata": {},
     "output_type": "execute_result"
    }
   ],
   "source": [
    "#課堂習題 1\n",
    "c=input(\"input list:\")\n",
    "len(set(c))!=len(c)"
   ]
  },
  {
   "cell_type": "code",
   "execution_count": 5,
   "metadata": {
    "collapsed": false
   },
   "outputs": [
    {
     "name": "stdout",
     "output_type": "stream",
     "text": [
      "color:321\n",
      "321\n"
     ]
    }
   ],
   "source": [
    "color=input(\"color:\")\n",
    "if color==\"a\":\n",
    "    print(\"a\")\n",
    "elif color==\"b\":\n",
    "    print(\"b\")\n",
    "else:\n",
    "    print(color)"
   ]
  },
  {
   "cell_type": "code",
   "execution_count": 6,
   "metadata": {
    "collapsed": false
   },
   "outputs": [
    {
     "name": "stdout",
     "output_type": "stream",
     "text": [
      "sorce:60\n",
      "pass\n"
     ]
    }
   ],
   "source": [
    "#課堂習題 2\n",
    "sorce=int(input(\"sorce:\"))\n",
    "if 0<=sorce<60:\n",
    "    print(\"fail\")\n",
    "elif 0<=sorce<=100:\n",
    "    print(\"pass\")\n",
    "else:\n",
    "    print(\"error\")"
   ]
  },
  {
   "cell_type": "code",
   "execution_count": 1,
   "metadata": {
    "collapsed": false
   },
   "outputs": [
    {
     "name": "stdout",
     "output_type": "stream",
     "text": [
      "input name:1\n",
      "error\n",
      "input name:2\n",
      "error\n",
      "input name:阿丞\n",
      "nick name\n"
     ]
    }
   ],
   "source": [
    "while True:\n",
    "    name=input(\"input name:\")\n",
    "    if name==\"李東丞\":\n",
    "        print(\"my name\")\n",
    "        break\n",
    "    elif name==\"阿丞\":\n",
    "        print(\"nick name\")\n",
    "        break\n",
    "    else:\n",
    "        print(\"error\")"
   ]
  },
  {
   "cell_type": "code",
   "execution_count": null,
   "metadata": {
    "collapsed": true
   },
   "outputs": [],
   "source": []
  }
 ],
 "metadata": {
  "kernelspec": {
   "display_name": "Python 3",
   "language": "python",
   "name": "python3"
  },
  "language_info": {
   "codemirror_mode": {
    "name": "ipython",
    "version": 3
   },
   "file_extension": ".py",
   "mimetype": "text/x-python",
   "name": "python",
   "nbconvert_exporter": "python",
   "pygments_lexer": "ipython3",
   "version": "3.4.3"
  }
 },
 "nbformat": 4,
 "nbformat_minor": 0
}
