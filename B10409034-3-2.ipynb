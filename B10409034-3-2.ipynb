{
 "cells": [
  {
   "cell_type": "code",
   "execution_count": 3,
   "metadata": {
    "collapsed": false
   },
   "outputs": [
    {
     "name": "stdout",
     "output_type": "stream",
     "text": [
      "16\n",
      "True\n",
      "False\n",
      "8\n",
      "8\n",
      "1\n",
      "False\n",
      "This is a dog\n",
      "This is a dog...\n",
      "This Is A Dog...\n",
      "THIS IS A DOG...\n",
      "this is a dog...\n",
      "tHIS IS A DOG...\n",
      "       This is a dog...       \n",
      "This is a dog...              \n",
      "              This is a dog...\n"
     ]
    }
   ],
   "source": [
    "a=\"This is a dog...\"\n",
    "print(len(a))\n",
    "print(a.startswith(\"This\"))\n",
    "print(a.endswith(\"dog\"))\n",
    "print(a.find(\"a\"))\n",
    "print(a.rfind(\"a\"))\n",
    "print(a.count(\"a\"))\n",
    "print(a.isalnum())\n",
    "print(a.strip(\".\"))\n",
    "print(a.capitalize())\n",
    "print(a.title())\n",
    "print(a.upper())\n",
    "print(a.lower())\n",
    "print(a.swapcase())\n",
    "print(a.center(30))\n",
    "print(a.ljust(30))\n",
    "print(a.rjust(30))"
   ]
  },
  {
   "cell_type": "code",
   "execution_count": 4,
   "metadata": {
    "collapsed": false
   },
   "outputs": [
    {
     "name": "stdout",
     "output_type": "stream",
     "text": [
      "This is aa dog...\n"
     ]
    }
   ],
   "source": [
    "b=a.replace(\"a\",\"aa\")\n",
    "print(b)"
   ]
  },
  {
   "cell_type": "code",
   "execution_count": null,
   "metadata": {
    "collapsed": true
   },
   "outputs": [],
   "source": []
  }
 ],
 "metadata": {
  "kernelspec": {
   "display_name": "Python 3",
   "language": "python",
   "name": "python3"
  },
  "language_info": {
   "codemirror_mode": {
    "name": "ipython",
    "version": 3
   },
   "file_extension": ".py",
   "mimetype": "text/x-python",
   "name": "python",
   "nbconvert_exporter": "python",
   "pygments_lexer": "ipython3",
   "version": "3.4.3"
  }
 },
 "nbformat": 4,
 "nbformat_minor": 0
}
